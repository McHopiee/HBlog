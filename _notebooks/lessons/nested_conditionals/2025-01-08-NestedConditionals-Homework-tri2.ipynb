{
 "cells": [
  {
   "cell_type": "raw",
   "metadata": {
    "vscode": {
     "languageId": "raw"
    }
   },
   "source": [
    "---\n",
    "layout: post\n",
    "title: Nested Conditionals, Homework\n",
    "description:  Homework for nested conditionals\n",
    "type: issues \n",
    "comments: true\n",
    "---"
   ]
  },
  {
   "cell_type": "markdown",
   "metadata": {},
   "source": [
    "### Homework Objectives\n",
    "\n",
    "You and your friend want to do different things at the amusement park. To decide, you do a coin flip. Heads means that you get to choose where to go and tails means that your friend gets to choose. If you go on a ride, be sure to check if you are the right height and have enough tickets, and if you go to a food stand, make sure that you have enough money and that the food is in stock. Be creative, and make sure to use nested conditionals!"
   ]
  },
  {
   "cell_type": "markdown",
   "metadata": {},
   "source": [
    "### Instructions\n",
    "\n",
    "1) Create a JavaScript file (Ex. insertName.js)\n",
    "\n",
    "2) Plan out what you will be doing and make variables for the necessary things. There will be a coin flip, so make a variable for that. If there are rides, make a value for the amount of tickets the person has and what height they are. If they go to a food stand, you can make a variable for the amount of money that you have and if the food is in stock.\n",
    "\n",
    "3) Use Math.random() for the coin flip. This generates a number between 0 and 1, so then you multiply this value by 2 and put it inside Math.floor() to round down and get either 0 or 1. Make this the coin flip variable.\n",
    "\n",
    "4) Use an if statement to check what the result of the coin flip was and use console.log to print out a statement to see who won or lost the coin flip. Along with that, print out where they are going next.\n",
    "\n",
    "5) Use more if statements inside of if statements to check if the person can do what they want to do. (Are they tall enough, do they have enough money, etc.)\n",
    "\n",
    "6) After all the checks, print out a result of what happened. If you get stuck, you can look at the examples in the popcorn hacks. Please don't copy and paste, though! \n"
   ]
  },
  {
   "cell_type": "code",
   "execution_count": 1,
   "metadata": {
    "vscode": {
     "languageId": "javascript"
    }
   },
   "outputs": [
    {
     "data": {
      "application/javascript": "\nlet coinFlip = Math.floor(Math.random() * 2); // 0 or 1\nlet tickets = 5; // Number of tickets for rides\nlet heightInInches = 48; // Height of the person in inches\nlet money = 10; // Amount of money they have\nlet popcornInStock = true; // Food stock availability\nlet rideCost = 3; // Tickets required for a ride\n\nif (coinFlip === 0) {\n    console.log(\"Coin flip result: Heads, YIPPIE RIDE TIME!!\");\n\n    if (tickets >= rideCost) {\n        if (heightInInches >= 48) {\n            console.log(\"They have enough tickets and are tall enough to go on the ride. YIPPIE RIDE TIME!!\");\n            tickets -= rideCost; // Deduct tickets\n        } else {\n            console.log(\"They are not tall enough to go on the ride.. aw man that sucks\");\n        }\n    } else {\n        console.log(\"They don't have enough tickets for the ride.. welp get better\");\n    }\n} else {\n    console.log(\"Coin flip result: Tails. They go to the food stand!! YAY FOOD YIPPIE\");\n\n    let foodCost = 5; // Cost of food item\n    if (money >= foodCost) {\n        if (popcornInStock) {\n            console.log(\"They have enough money and the popcorn is in stock. They buy popcorn YAYYY\");\n            money -= foodCost; // Deduct money\n        } else {\n            console.log(\"The popcorn is out of stock how could they do this to us? :(\");\n        }\n    } else {\n        console.log(\"They don't have enough money to buy popcorn.. where did their money go?\");\n    }\n}\n\nconsole.log(`Remaining tickets: ${tickets}`);\nconsole.log(`Remaining money: $${money}`);\n",
      "text/plain": [
       "<IPython.core.display.Javascript object>"
      ]
     },
     "metadata": {},
     "output_type": "display_data"
    }
   ],
   "source": [
    "%%js\n",
    "\n",
    "let coinFlip = Math.floor(Math.random() * 2); // 0 or 1\n",
    "let tickets = 5; // Number of tickets for rides\n",
    "let heightInInches = 48; // Height of the person in inches\n",
    "let money = 10; // Amount of money they have\n",
    "let popcornInStock = true; // Food stock availability\n",
    "let rideCost = 3; // Tickets required for a ride\n",
    "\n",
    "if (coinFlip === 0) {\n",
    "    console.log(\"Coin flip result: Heads, YIPPIE RIDE TIME!!\");\n",
    "\n",
    "    if (tickets >= rideCost) {\n",
    "        if (heightInInches >= 48) {\n",
    "            console.log(\"They have enough tickets and are tall enough to go on the ride. YIPPIE RIDE TIME!!\");\n",
    "            tickets -= rideCost; // Deduct tickets\n",
    "        } else {\n",
    "            console.log(\"They are not tall enough to go on the ride.. aw man that sucks\");\n",
    "        }\n",
    "    } else {\n",
    "        console.log(\"They don't have enough tickets for the ride.. welp get better\");\n",
    "    }\n",
    "} else {\n",
    "    console.log(\"Coin flip result: Tails. They go to the food stand!! YAY FOOD YIPPIE\");\n",
    "\n",
    "    let foodCost = 5; // Cost of food item\n",
    "    if (money >= foodCost) {\n",
    "        if (popcornInStock) {\n",
    "            console.log(\"They have enough money and the popcorn is in stock. They buy popcorn YAYYY\");\n",
    "            money -= foodCost; // Deduct money\n",
    "        } else {\n",
    "            console.log(\"The popcorn is out of stock how could they do this to us? :(\");\n",
    "        }\n",
    "    } else {\n",
    "        console.log(\"They don't have enough money to buy popcorn.. where did their money go?\");\n",
    "    }\n",
    "}\n",
    "\n",
    "console.log(`Remaining tickets: ${tickets}`);\n",
    "console.log(`Remaining money: $${money}`);\n"
   ]
  }
 ],
 "metadata": {
  "kernelspec": {
   "display_name": "Python 3",
   "language": "python",
   "name": "python3"
  },
  "language_info": {
   "codemirror_mode": {
    "name": "ipython",
    "version": 3
   },
   "file_extension": ".py",
   "mimetype": "text/x-python",
   "name": "python",
   "nbconvert_exporter": "python",
   "pygments_lexer": "ipython3",
   "version": "3.13.1"
  }
 },
 "nbformat": 4,
 "nbformat_minor": 2
}
