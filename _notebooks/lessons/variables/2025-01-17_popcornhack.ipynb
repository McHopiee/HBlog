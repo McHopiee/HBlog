{
 "cells": [
  {
   "cell_type": "code",
   "execution_count": null,
   "metadata": {},
   "outputs": [],
   "source": [
    "---\n",
    "layout: post\n",
    "title: Variables Popcorn Hack\n",
    "description: Introduction to JavaScript Variables\n",
    "comments: false\n",
    "categories: [CSSE JavaScript Fundamentals]\n",
    "---"
   ]
  },
  {
   "cell_type": "code",
   "execution_count": 1,
   "metadata": {
    "vscode": {
     "languageId": "javascript"
    }
   },
   "outputs": [
    {
     "data": {
      "application/javascript": "//On this line, define charHealth.\nlet charHealth = 100.0;\n//Run the command to print charHealth's value here.\nconsole.log(charHealth);\n//Expected output: 100.0\n\n//Run the command to check the type of variable here.\nconsole.log(typeof charHealth);\n//Expected output: number\n",
      "text/plain": [
       "<IPython.core.display.Javascript object>"
      ]
     },
     "metadata": {},
     "output_type": "display_data"
    }
   ],
   "source": [
    "%%js\n",
    "//On this line, define charHealth.\n",
    "let charHealth = 100.0;\n",
    "//Run the command to print charHealth's value here.\n",
    "console.log(charHealth);\n",
    "//Expected output: 100.0\n",
    "\n",
    "//Run the command to check the type of variable here.\n",
    "console.log(typeof charHealth);\n",
    "//Expected output: number"
   ]
  },
  {
   "cell_type": "code",
   "execution_count": 2,
   "metadata": {
    "vscode": {
     "languageId": "javascript"
    }
   },
   "outputs": [
    {
     "data": {
      "application/javascript": "//Define variables up here. Make sure they are both number values.\nlet charHealth = 100.0\nlet dmg = 30.0\n\n//Update charHealth after the player has taken damage. The character should lose health relative to damage taken. Print your results.\ncharHealth -= dmg;\nconsole.log(charHealth);\n",
      "text/plain": [
       "<IPython.core.display.Javascript object>"
      ]
     },
     "metadata": {},
     "output_type": "display_data"
    }
   ],
   "source": [
    "%%js\n",
    "//Define variables up here. Make sure they are both number values.\n",
    "let charHealth = 100.0\n",
    "let dmg = 30.0\n",
    "\n",
    "//Update charHealth after the player has taken damage. The character should lose health relative to damage taken. Print your results.\n",
    "charHealth -= dmg;\n",
    "console.log(charHealth);"
   ]
  },
  {
   "cell_type": "code",
   "execution_count": 4,
   "metadata": {
    "vscode": {
     "languageId": "javascript"
    }
   },
   "outputs": [
    {
     "data": {
      "application/javascript": "//Define variables and combine them here\nlet messagePart1 = \"berries \"\nlet messagePart2 = \"and cream\"\nlet finalMessage = messagePart1 + messagePart2;\n//Print results here.\nconsole.log(finalMessage); //Insert variable\n",
      "text/plain": [
       "<IPython.core.display.Javascript object>"
      ]
     },
     "metadata": {},
     "output_type": "display_data"
    }
   ],
   "source": [
    "%%js\n",
    "//Define variables and combine them here\n",
    "let messagePart1 = \"berries \"\n",
    "let messagePart2 = \"and cream\"\n",
    "let finalMessage = messagePart1 + messagePart2;\n",
    "//Print results here.\n",
    "console.log(finalMessage); //Insert variable"
   ]
  },
  {
   "cell_type": "code",
   "execution_count": 5,
   "metadata": {
    "vscode": {
     "languageId": "javascript"
    }
   },
   "outputs": [
    {
     "data": {
      "application/javascript": "let m1 = \"raining cats \";\nlet m2 = \"and dogs\"; //Edit this \n\nif (m1 + m2 == \"raining cats and dogs\"){\n    console.log(\"You have successfully manipulated these strings! Good Job!\");\n} else {\n    console.log(\"Failed to match strings. Try again.\");\n}\nconsole.log(m1 + m2); //Should say \"Hello, world!\"\n",
      "text/plain": [
       "<IPython.core.display.Javascript object>"
      ]
     },
     "metadata": {},
     "output_type": "display_data"
    }
   ],
   "source": [
    "%%js\n",
    "let m1 = \"raining cats \";\n",
    "let m2 = \"and dogs\"; //Edit this \n",
    "\n",
    "if (m1 + m2 == \"raining cats and dogs\"){\n",
    "    console.log(\"You have successfully manipulated these strings! Good Job!\");\n",
    "} else {\n",
    "    console.log(\"Failed to match strings. Try again.\");\n",
    "}\n",
    "console.log(m1 + m2); //Should say \"Hello, world!\""
   ]
  },
  {
   "cell_type": "code",
   "execution_count": 18,
   "metadata": {
    "vscode": {
     "languageId": "javascript"
    }
   },
   "outputs": [
    {
     "data": {
      "application/javascript": "let isGreaterThan = false; //What should this be defined as by default?\nlet randomNum = Math.random(); //Makes a random number.\nif (randomNum > 0.7) { //Put something in the parentheses to check if the random number is over 0.7.\n    isGreaterThan = true;\n} \nconsole.log(isGreaterThan); //Output the value of isGreaterThan\n\n//Run this a few times, and see if you get a mix of true and false outputs.\n",
      "text/plain": [
       "<IPython.core.display.Javascript object>"
      ]
     },
     "metadata": {},
     "output_type": "display_data"
    }
   ],
   "source": [
    "%%js\n",
    "let isGreaterThan = false; //What should this be defined as by default?\n",
    "let randomNum = Math.random(); //Makes a random number.\n",
    "if (randomNum > 0.7) { //Put something in the parentheses to check if the random number is over 0.7.\n",
    "    isGreaterThan = true;\n",
    "} \n",
    "console.log(isGreaterThan); //Output the value of isGreaterThan\n",
    "\n",
    "//Run this a few times, and see if you get a mix of true and false outputs."
   ]
  },
  {
   "cell_type": "code",
   "execution_count": 19,
   "metadata": {
    "vscode": {
     "languageId": "javascript"
    }
   },
   "outputs": [
    {
     "data": {
      "application/javascript": "//This is a very open-ended exercise. What type of variable to you want message1 to be? Depending on your answer, \n// you will define message1 differently, likely with a different name (like score or isAlive).\nlet message1 = meow; //Change this, go nuts.\nconsole.log(message1); //Output the variable.\nconsole.log(typeof message1); //Output its type.\n",
      "text/plain": [
       "<IPython.core.display.Javascript object>"
      ]
     },
     "metadata": {},
     "output_type": "display_data"
    }
   ],
   "source": [
    "%%js\n",
    "//This is a very open-ended exercise. What type of variable to you want message1 to be? Depending on your answer, \n",
    "// you will define message1 differently, likely with a different name (like score or isAlive).\n",
    "let message1 = meow; //Change this, go nuts.\n",
    "console.log(message1); //Output the variable.\n",
    "console.log(typeof message1); //Output its type."
   ]
  },
  {
   "cell_type": "code",
   "execution_count": null,
   "metadata": {
    "vscode": {
     "languageId": "javascript"
    }
   },
   "outputs": [],
   "source": [
    "%%js\n",
    "let bigNumber = 748389462876545736365895n //Pick a big number. End it with n to make sure it's a bigInt type of variable.\n",
    "let x = Number.MAX_SAFE_INTEGER;\n",
    "console.log(bignumber > x); //Check to make sure your number is big enough (so, bigger than x). You're looking for a \"true\" output.\n",
    "console.log(bigNumber); //Big number go brrrrr"
   ]
  }
 ],
 "metadata": {
  "kernelspec": {
   "display_name": "Python 3",
   "language": "python",
   "name": "python3"
  },
  "language_info": {
   "codemirror_mode": {
    "name": "ipython",
    "version": 3
   },
   "file_extension": ".py",
   "mimetype": "text/x-python",
   "name": "python",
   "nbconvert_exporter": "python",
   "pygments_lexer": "ipython3",
   "version": "3.13.1"
  }
 },
 "nbformat": 4,
 "nbformat_minor": 2
}
