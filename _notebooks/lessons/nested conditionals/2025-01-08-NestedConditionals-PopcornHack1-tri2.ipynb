{
 "cells": [
  {
   "cell_type": "raw",
   "metadata": {
    "vscode": {
     "languageId": "raw"
    }
   },
   "source": [
    "---\n",
    "layout: post\n",
    "title: Nested Conditionals, Popcorn Hack One\n",
    "description:  First popcorn hack for nested conditonals\n",
    "type: issues \n",
    "comments: true\n",
    "---"
   ]
  },
  {
   "cell_type": "markdown",
   "metadata": {},
   "source": [
    "### Popcorn Hack 1\n",
    "\n",
    "This code has the option to let the player go on a ride of their choosing, and either lets them go on the ride or does not let them go on the ride based on their amount of tickets that they have. Try adding some code that makes it so that the code also takes into account the height of the person trying to ride the ride and have it be another constraint that determines whether or not the person goes on a ride."
   ]
  },
  {
   "cell_type": "code",
   "execution_count": 4,
   "metadata": {
    "vscode": {
     "languageId": "html"
    }
   },
   "outputs": [
    {
     "data": {
      "text/html": [
       "<!-- HTML output div -->\n",
       "<div id=\"message\"></div>\n",
       "<script>\n",
       "    function runWhenDOMLoaded() {\n",
       "        let ticketAmount = 60; // Makes the ticket amount be 60, make another variable for height\n",
       "        let ride = \"Ferris Wheel\"; // sets the ride that the person wants to ride on\n",
       "\n",
       "        const messageElement = document.getElementById(\"message\");\n",
       "\n",
       "        function displayMessage(message) {\n",
       "            console.log(message); // Log to console\n",
       "            messageElement.textContent = message; // Display on the webpage\n",
       "        }\n",
       "\n",
       "        function enoughTickets(a) {//Add another parameter for height, maybe change the name of the parameter\n",
       "            if (ticketAmount >= a) {\n",
       "                displayMessage(\"You have enough tickets! Yay! :D\");//make another if else statement inside of this to check for height\n",
       "            } else {\n",
       "                displayMessage(\"You don't have enough tickets... :(\");\n",
       "            }\n",
       "        }\n",
       "\n",
       "        if (ride === \"Roller Coaster\") {\n",
       "            enoughTickets(60); //Nests the function and the conditionals\n",
       "        } else if (ride === \"Ferris Wheel\") {\n",
       "            enoughTickets(40);\n",
       "        }    \n",
       "    }\n",
       "\n",
       "    // Ensure the function runs only after the page loads\n",
       "    if (document.readyState === \"loading\") {\n",
       "        document.addEventListener(\"DOMContentLoaded\", runWhenDOMLoaded);\n",
       "    } else {\n",
       "        runWhenDOMLoaded();\n",
       "    }\n",
       "</script>\n"
      ],
      "text/plain": [
       "<IPython.core.display.HTML object>"
      ]
     },
     "metadata": {},
     "output_type": "display_data"
    }
   ],
   "source": [
    "%%html\n",
    "<!-- HTML output div -->\n",
    "<div id=\"message\"></div>\n",
    "<script>\n",
    "    function runWhenDOMLoaded() {\n",
    "        let ticketAmount = 60; // Makes the ticket amount be 60, make another variable for height\n",
    "        let ride = \"Ferris Wheel\"; // sets the ride that the person wants to ride on\n",
    "        let height = 120 //new height in cm \n",
    "\n",
    "        const messageElement = document.getElementById(\"message\");\n",
    "\n",
    "        function displayMessage(message) {\n",
    "            console.log(message); // Log to console\n",
    "            messageElement.textContent = message; // Display on the webpage\n",
    "        }\n",
    "\n",
    "        function enoughTickets(a) {//Add another parameter for height (use a comma and then a letter or word), maybe change the name of the parameter\n",
    "            if (ticketAmount >= a) {\n",
    "                displayMessage(\"You have enough tickets! Yay! :D\");//make another if else statement inside of this to check for height\n",
    "            } else {\n",
    "                displayMessage(\"You don't have enough tickets... :(\");\n",
    "            }\n",
    "        }\n",
    "\n",
    "        function canRide(ticketCost, minHeight) {\n",
    "            if (ticketAmount >= ticketCost) {\n",
    "                if (height >= minHeight) {\n",
    "                    displayMessage(\"You meet both height requirements and ticket requirements, good luck and have fun on the ride.\"); // yay bros tall enough, numbers should meet both requirements\n",
    "                } else {\n",
    "                    displayMessage(\"You're too short, L tbh\"); // this message appears if the height does not meet the requirement, this is a very nice amusement park\n",
    "                }\n",
    "            } else {\n",
    "                displayMessage(\"You don't have the tickets, come back when you get the money L\"); // this message appears if the ticket requirement does not appear \n",
    "            }\n",
    "        }\n",
    "\n",
    "        if (ride === \"Roller Coaster\") {\n",
    "            enoughTickets(60, 140); //Nests the function and the conditionals\n",
    "        } else if (ride === \"Ferris Wheel\") {\n",
    "            enoughTickets(40, 110);\n",
    "        }    \n",
    "    }\n",
    "\n",
    "    // Ensure the function runs only after the page loads\n",
    "    if (document.readyState === \"loading\") {\n",
    "        document.addEventListener(\"DOMContentLoaded\", runWhenDOMLoaded);\n",
    "    } else {\n",
    "        runWhenDOMLoaded();\n",
    "    }\n",
    "</script>\n"
   ]
  }
 ],
 "metadata": {
  "kernelspec": {
   "display_name": "venv",
   "language": "python",
   "name": "python3"
  },
  "language_info": {
   "codemirror_mode": {
    "name": "ipython",
    "version": 3
   },
   "file_extension": ".py",
   "mimetype": "text/x-python",
   "name": "python",
   "nbconvert_exporter": "python",
   "pygments_lexer": "ipython3",
   "version": "3.12.3"
  }
 },
 "nbformat": 4,
 "nbformat_minor": 2
}
