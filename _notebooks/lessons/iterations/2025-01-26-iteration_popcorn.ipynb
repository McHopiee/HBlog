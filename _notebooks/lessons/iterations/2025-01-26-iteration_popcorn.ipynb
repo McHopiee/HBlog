{
 "cells": [
  {
   "cell_type": "raw",
   "metadata": {},
   "source": [
    "---\n",
    "comments: True\n",
    "layout: post\n",
    "title: Iteration Popcorn Hack \n",
    "description: Iterations Popcorn Hack \n",
    "categories: [CSSE JavaScript Fundamentals]\n",
    "author: Hope \n",
    "---  "
   ]
  },
  {
   "cell_type": "code",
   "execution_count": 5,
   "metadata": {},
   "outputs": [
    {
     "data": {
      "application/javascript": "\nfor (let co = 1; co <= 10; co++) {\n    console.log(co);\n}\n",
      "text/plain": [
       "<IPython.core.display.Javascript object>"
      ]
     },
     "metadata": {},
     "output_type": "display_data"
    }
   ],
   "source": [
    "%%js\n",
    "\n",
    "for (let co = 1; co <= 10; co++) {\n",
    "    console.log(co);\n",
    "}"
   ]
  },
  {
   "cell_type": "code",
   "execution_count": 4,
   "metadata": {},
   "outputs": [
    {
     "data": {
      "application/javascript": " \nfunction sumNumbers(n) {\n    let sum = 0;\n    for (let co = 1; co <= n; co++) {\n        sum += co;\n    }\n    return sum;\n}\nconsole.log(sumNumbers(5));\n",
      "text/plain": [
       "<IPython.core.display.Javascript object>"
      ]
     },
     "metadata": {},
     "output_type": "display_data"
    }
   ],
   "source": [
    "%%js \n",
    " \n",
    "function sumNumbers(n) {\n",
    "    let sum = 0;\n",
    "    for (let co = 1; co <= n; co++) {\n",
    "        sum += co;\n",
    "    }\n",
    "    return sum;\n",
    "}\n",
    "console.log(sumNumbers(5));"
   ]
  },
  {
   "cell_type": "code",
   "execution_count": 10,
   "metadata": {},
   "outputs": [
    {
     "data": {
      "application/javascript": "const colors = ['red','blue','yellow','green','black'];\n\n//color = i\nfor (let color of colors) { //checks each element in the list\n    console.log(color); //prints each color\n}\n",
      "text/plain": [
       "<IPython.core.display.Javascript object>"
      ]
     },
     "metadata": {},
     "output_type": "display_data"
    }
   ],
   "source": [
    "%%js\n",
    "const colors = ['red','orange','yellow','green','blue', 'purple'];\n",
    "\n",
    "//color = i\n",
    "for (let color of colors) { //checks each element in the list\n",
    "    console.log(color); //prints each color\n",
    "}"
   ]
  }
 ],
 "metadata": {
  "kernelspec": {
   "display_name": "Python 3",
   "language": "python",
   "name": "python3"
  },
  "language_info": {
   "codemirror_mode": {
    "name": "ipython",
    "version": 3
   },
   "file_extension": ".py",
   "mimetype": "text/x-python",
   "name": "python",
   "nbconvert_exporter": "python",
   "pygments_lexer": "ipython3",
   "version": "3.13.1"
  }
 },
 "nbformat": 4,
 "nbformat_minor": 2
}
