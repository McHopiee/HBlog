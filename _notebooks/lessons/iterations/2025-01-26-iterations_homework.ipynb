{
 "cells": [
  {
   "cell_type": "raw",
   "metadata": {},
   "source": [
    "---\n",
    "comments: True\n",
    "layout: post\n",
    "title: Iteration Homework\n",
    "description: Iterations Homework\n",
    "categories: [CSSE JavaScript Fundamentals]\n",
    "author: Hope \n",
    "---  "
   ]
  },
  {
   "cell_type": "code",
   "execution_count": 7,
   "metadata": {
    "vscode": {
     "languageId": "javascript"
    }
   },
   "outputs": [
    {
     "data": {
      "application/javascript": "\nfunction multi(number) { \n    for (let n = 1; n <= 10; n++) {\n        console.log(`${number} x ${n} = ${number * n}`);\n    }\n}\n\nmulti(3);\n\n// multi = the number being multiplied by another number \n// interation/number being multiplied by multi starts with is 1, n = 1\n// n has to be less than or equal to 10, meaning it ends at 10 <= \n// the number being multiplied by 1, 2, 3 etc is 3, multi(3)\n",
      "text/plain": [
       "<IPython.core.display.Javascript object>"
      ]
     },
     "metadata": {},
     "output_type": "display_data"
    }
   ],
   "source": [
    "//homework #1 \n",
    "\n",
    "%%js\n",
    "\n",
    "function multi(number) { \n",
    "    for (let n = 1; n <= 10; n++) {\n",
    "        console.log(`${number} x ${n} = ${number * n}`);\n",
    "    }\n",
    "}\n",
    "\n",
    "multi(3);\n",
    "\n",
    "// multi = the number being multiplied by another number \n",
    "// each time, it goes up by one ; n++ (go up by one until n <=10 is not true, then stop)\n",
    "// interation/number being multiplied by multi starts with is 1, n = 1\n",
    "// n has to be less than or equal to 10, meaning it ends at 10 <= \n",
    "// the number being multiplied by 1, 2, 3 etc is 3, multi(3)"
   ]
  },
  {
   "cell_type": "code",
   "execution_count": 9,
   "metadata": {
    "vscode": {
     "languageId": "javascript"
    }
   },
   "outputs": [
    {
     "data": {
      "application/javascript": "\nfor (let n = 1; n <= 5; n++) {\n    let zeroes = \"\";\n    for (let j = 1; j <= n; j++) {\n        zeroes += \"0\";\n    }\n    console.log(zeroes);\n}\n\n// starts at one zero, ends at five, n = 1, n <= 5 \n// make all numbers zeros, zeros += 0\n",
      "text/plain": [
       "<IPython.core.display.Javascript object>"
      ]
     },
     "metadata": {},
     "output_type": "display_data"
    }
   ],
   "source": [
    "%%js \n",
    "\n",
    "for (let n = 1; n <= 5; n++) {\n",
    "    let zeroes = \"\";\n",
    "    for (let j = 1; j <= n; j++) {\n",
    "        zeroes += \"0\";\n",
    "    }\n",
    "    console.log(zeroes);\n",
    "}\n",
    "\n",
    "// starts at one zero, ends at five, n = 1, n <= 5 \n",
    "// time, it goes up by one ; n++ and j++ (go up by one until n <=5 and j <= n is not true, then stop)\n",
    "// make all numbers zeros, zeros += 0 \n"
   ]
  }
 ],
 "metadata": {
  "kernelspec": {
   "display_name": "Python 3",
   "language": "python",
   "name": "python3"
  },
  "language_info": {
   "codemirror_mode": {
    "name": "ipython",
    "version": 3
   },
   "file_extension": ".py",
   "mimetype": "text/x-python",
   "name": "python",
   "nbconvert_exporter": "python",
   "pygments_lexer": "ipython3",
   "version": "3.13.1"
  }
 },
 "nbformat": 4,
 "nbformat_minor": 2
}
