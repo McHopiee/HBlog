{
 "cells": [
  {
   "cell_type": "code",
   "execution_count": null,
   "metadata": {},
   "outputs": [],
   "source": [
    "---\n",
    "layout: post\n",
    "title: RPG Ideas\n",
    "description: Game idea for group project\n",
    "type: collab\n",
    "comments: true\n",
    "---"
   ]
  },
  {
   "cell_type": "markdown",
   "metadata": {},
   "source": [
    "## Game level idea\n",
    "\n",
    "### intro \n",
    "So, the main character wakes up in a basement and has some sort of memory loss. Due to their lack of food and water for the past few days, they start to hallucinate anime girls around the basement because the main character is just that much of a degenerate. There are two or three girls around the level that the main character can interact with, but none of them actually tell him how to get out of the basement because they are nothing but hallucinations.\n",
    "\n",
    "### base game \n",
    "Either way, the anime girls quiz him on his knowledge. One girl will be asking him questions about JavaScript, one will ask him math questions, and the other will be asking questions that are almost impossible to understand. In order to move onto the next game, the main character has to correctly answer all of the last girl's questions. Only then will he finally snap out of his degenerate state."
   ]
  },
  {
   "cell_type": "markdown",
   "metadata": {},
   "source": [
    "## NPCS \n",
    "anime girls.\n",
    "\n",
    "- Hatsune Chan \n",
    "- Asaka Chan \n",
    "- Mortensen Chan "
   ]
  },
  {
   "cell_type": "markdown",
   "metadata": {},
   "source": [
    "## Main character \n",
    "Guy with memory loss. He remembers that people call him a degen, so he assumes that 'Degen' is his name. He is just so delusional that he doesn't realize that he remembers people calling him degen because they were calling him a degenerate.\n",
    "\n",
    "- Degen"
   ]
  },
  {
   "cell_type": "markdown",
   "metadata": {},
   "source": [
    "## Sprites \n",
    "Sprites for all three anime girls and a random npc sprite sheet for Degen.\n",
    "\n",
    "#### Hatsune Chan \n",
    "<img src=\"/images/game_images/anotherrando.png\" alt=\"Degen\" width=\"200\"/>\n",
    "\n",
    "#### Asaka Chan \n",
    "<img src=\"/images/game_images/randomgirl.png\" alt=\"pinkie\" width=\"200\"/>\n",
    "\n",
    "\n",
    "#### Mortensen Chan \n",
    "<img src=\"/images/game_images/pinkie.png\" alt=\"pinkie\" width=\"200\"/>\n",
    "\n",
    "#### Degen \n",
    "<img src=\"/images/game_images/degeen.png\" alt=\"Degen\" width=\"200\"/>"
   ]
  },
  {
   "cell_type": "markdown",
   "metadata": {},
   "source": [
    "## Background \n",
    "\n",
    "#### Basement background \n",
    "\n",
    "<img src=\"/images/game_images/basement.png\" alt=\"basement\" width=\"200\"/>"
   ]
  },
  {
   "cell_type": "markdown",
   "metadata": {},
   "source": [
    "## Ideations\n",
    "\n",
    "<div class=\"button\">\n",
    "    <a href=\"https://drive.google.com/file/d/1AJKqC0t3n2dvUZ26WaCDdWBjyBLXwhof/view\" class=\"button link\">\n",
    "        <button>Ideation Link</button>\n",
    "    </a>\n",
    "</div>"
   ]
  }
 ],
 "metadata": {
  "kernelspec": {
   "display_name": "Python 3",
   "language": "python",
   "name": "python3"
  },
  "language_info": {
   "codemirror_mode": {
    "name": "ipython",
    "version": 3
   },
   "file_extension": ".py",
   "mimetype": "text/x-python",
   "name": "python",
   "nbconvert_exporter": "python",
   "pygments_lexer": "ipython3",
   "version": "3.13.1"
  }
 },
 "nbformat": 4,
 "nbformat_minor": 2
}
